{
 "cells": [
  {
   "cell_type": "code",
   "execution_count": 1,
   "metadata": {},
   "outputs": [],
   "source": [
    "import argparse\n",
    "import logging\n",
    "import sys\n",
    "from datetime import datetime\n",
    "\n",
    "import backtrader as bt\n",
    "import pyfolio as pf\n",
    "\n",
    "from commissions import CryptoSpotCommissionInfo"
   ]
  },
  {
   "cell_type": "code",
   "execution_count": 2,
   "metadata": {
    "pycharm": {
     "name": "#%%\n"
    }
   },
   "outputs": [],
   "source": [
    "class St(bt.Strategy):\n",
    "    params = dict(\n",
    "        p1=10, p2=30,  # periods for crossover\n",
    "        ma=bt.ind.SMA,  # moving average to use\n",
    "        target=0.5,  # percentage of value to use\n",
    "    )\n",
    "\n",
    "    def __init__(self):\n",
    "        ma1, ma2 = [self.p.ma(period=p) for p in (self.p.p1, self.p.p2)]\n",
    "        self.cross = bt.ind.CrossOver(ma1, ma2)\n",
    "\n",
    "    def next(self):\n",
    "        # self.logdata()\n",
    "        if self.cross > 0:\n",
    "            self.loginfo('Enter Long')\n",
    "            self.order_target_percent(target=self.p.target)\n",
    "        elif self.cross < 0:\n",
    "            self.loginfo('Enter Short')\n",
    "            self.order_target_percent(target=-self.p.target)\n",
    "\n",
    "    def notify_trade(self, trade):\n",
    "        if trade.justopened:\n",
    "            self.loginfo('Trade Opened  - Size {} @Price {}',\n",
    "                         trade.size, trade.price)\n",
    "        elif trade.isclosed:\n",
    "            self.loginfo('Trade Closed  - Profit {}', trade.pnlcomm)\n",
    "\n",
    "        else:  # trade updated\n",
    "            self.loginfo('Trade Updated - Size {} @Price {}',\n",
    "                         trade.size, trade.price)\n",
    "\n",
    "    def notify_order(self, order):\n",
    "        if order.alive():\n",
    "            return\n",
    "\n",
    "        otypetxt = 'Buy ' if order.isbuy() else 'Sell'\n",
    "        if order.status == order.Completed:\n",
    "            self.loginfo(\n",
    "                ('{} Order Completed - '\n",
    "                 'Size: {} @Price: {} '\n",
    "                 'Value: {:.2f} Comm: {:.2f}'),\n",
    "                otypetxt, order.executed.size, order.executed.price,\n",
    "                order.executed.value, order.executed.comm\n",
    "            )\n",
    "        else:\n",
    "            self.loginfo('{} Order rejected', otypetxt)\n",
    "\n",
    "    def loginfo(self, txt, *args):\n",
    "        out = [self.datetime.date().isoformat(), txt.format(*args)]\n",
    "        logging.info(','.join(out))\n",
    "\n",
    "    def logerror(self, txt, *args):\n",
    "        out = [self.datetime.date().isoformat(), txt.format(*args)]\n",
    "        logging.error(','.join(out))\n",
    "\n",
    "    def logdebug(self, txt, *args):\n",
    "        out = [self.datetime.date().isoformat(), txt.format(*args)]\n",
    "        logging.debug(','.join(out))\n",
    "\n",
    "    def logdata(self):\n",
    "        txt = []\n",
    "        txt += ['{:.2f}'.format(self.data.open[0])]\n",
    "        txt += ['{:.2f}'.format(self.data.high[0])]\n",
    "        txt += ['{:.2f}'.format(self.data.low[0])]\n",
    "        txt += ['{:.2f}'.format(self.data.close[0])]\n",
    "        txt += ['{:.2f}'.format(self.data.volume[0])]\n",
    "        self.loginfo(','.join(txt))"
   ]
  },
  {
   "cell_type": "code",
   "execution_count": 3,
   "metadata": {
    "pycharm": {
     "name": "#%%\n"
    }
   },
   "outputs": [],
   "source": [
    "def run(args=None):\n",
    "    args = parse_args(args)\n",
    "\n",
    "    cerebro = bt.Cerebro()\n",
    "\n",
    "    data = bt.feeds.GenericCSVData(\n",
    "        dataname=args.data,\n",
    "        fromdate=datetime(2017, 10, 1),\n",
    "        todate=datetime(2020, 12, 31),\n",
    "        nullvalue=0.0,\n",
    "        dtformat='%Y-%m-%d %H:%M:%S',\n",
    "        datetime=0,\n",
    "        high=1,\n",
    "        low=2,\n",
    "        open=3,\n",
    "        close=4,\n",
    "        volume=5,\n",
    "        openinterest=-1\n",
    "    )\n",
    "    cerebro.adddata(data)  # create and add data feed\n",
    "\n",
    "    cerebro.addstrategy(St)  # add the strategy\n",
    "\n",
    "    cerebro.broker.set_cash(args.cash)  # set broker cash\n",
    "\n",
    "    cerebro.addanalyzer(bt.analyzers.PyFolio, _name='pyfolio')\n",
    "\n",
    "    if args.fractional:  # use the fractional scheme if requested\n",
    "        cerebro.broker.addcommissioninfo(CryptoSpotCommissionInfo())\n",
    "\n",
    "    results = cerebro.run()  # execute\n",
    "    strat = results[0]\n",
    "\n",
    "    pyfolio = strat.analyzers.getbyname('pyfolio')\n",
    "    returns, positions, transactions, gross_lev = pyfolio.get_pf_items()\n",
    "\n",
    "    pf.create_full_tear_sheet(returns,\n",
    "                              positions=positions,\n",
    "                              transactions=transactions,\n",
    "                              gross_lev=gross_lev,\n",
    "                              live_start_date='2017-10-1',\n",
    "                              round_trips=True)\n",
    "\n",
    "    if args.plot:  # Plot if requested to\n",
    "        cerebro.plot(**eval('dict(' + args.plot + ')'))"
   ]
  },
  {
   "cell_type": "code",
   "execution_count": 4,
   "metadata": {
    "pycharm": {
     "name": "#%%\n"
    }
   },
   "outputs": [],
   "source": [
    "def logconfig(pargs):\n",
    "    if pargs.quiet:\n",
    "        verbose_level = logging.ERROR\n",
    "    else:\n",
    "        verbose_level = logging.INFO - pargs.verbose * 10  # -> DEBUG\n",
    "\n",
    "    logger = logging.getLogger()\n",
    "    for h in logger.handlers:  # Remove all loggers from root\n",
    "        logger.removeHandler(h)\n",
    "\n",
    "    stream = sys.stdout if not pargs.stderr else sys.stderr  # choose stream\n",
    "\n",
    "    logging.basicConfig(\n",
    "        stream=stream,\n",
    "        format=\"%(message)s\",  # format=\"%(levelname)s: %(message)s\",\n",
    "        level=verbose_level,\n",
    "    )"
   ]
  },
  {
   "cell_type": "code",
   "execution_count": 5,
   "metadata": {
    "pycharm": {
     "name": "#%%\n"
    }
   },
   "outputs": [],
   "source": [
    "def parse_args(pargs=None):\n",
    "    parser = argparse.ArgumentParser(\n",
    "        formatter_class=argparse.ArgumentDefaultsHelpFormatter,\n",
    "        description='Fractional Sizes with CommInfo',\n",
    "    )\n",
    "\n",
    "    pgroup = parser.add_argument_group('Data Options')\n",
    "    parser.add_argument('--data', default='/Users/umoh/Data/Binance/1d/Binance_BTCUSDT_1d.csv',\n",
    "                        help='Data to read in')\n",
    "\n",
    "    pgroup = parser.add_argument_group(title='Broker Arguments')\n",
    "    pgroup.add_argument('--cash', default=1000.0, type=float,\n",
    "                        help='Starting cash to use')\n",
    "\n",
    "    pgroup.add_argument('--fractional', action='store_true', default=True,\n",
    "                        help='Use fractional commission info')\n",
    "\n",
    "    pgroup = parser.add_argument_group(title='Plotting Arguments')\n",
    "    pgroup.add_argument('--plot', default='', nargs='?', const='{}',\n",
    "                        metavar='kwargs', help='kwargs: \"k1=v1,k2=v2,...\"')\n",
    "\n",
    "    pgroup = parser.add_argument_group('Verbosity Options')\n",
    "    pgroup.add_argument('--stderr', action='store_true',\n",
    "                        help='Log to stderr, else to stdout')\n",
    "    pgroup = pgroup.add_mutually_exclusive_group()\n",
    "    pgroup.add_argument('--quiet', '-q', action='store_true',\n",
    "                        help='Silent (errors will be reported)')\n",
    "    pgroup.add_argument('--verbose', '-v', action='store_true',\n",
    "                        help='Increase verbosity level')\n",
    "\n",
    "    # Parse and process some args\n",
    "    pargs = parser.parse_args(pargs)\n",
    "    logconfig(pargs)  # config logging\n",
    "    return pargs"
   ]
  },
  {
   "cell_type": "code",
   "execution_count": 6,
   "metadata": {
    "pycharm": {
     "name": "#%%\n"
    }
   },
   "outputs": [
    {
     "name": "stderr",
     "output_type": "stream",
     "text": [
      "usage: ipykernel_launcher.py [-h] [--data DATA] [--cash CASH] [--fractional]\n",
      "                             [--plot [kwargs]] [--stderr]\n",
      "                             [--quiet | --verbose]\n",
      "ipykernel_launcher.py: error: unrecognized arguments: -f /Users/umoh/Library/Jupyter/runtime/kernel-6a7c0bad-c68c-4953-8ecc-ef02b4aff517.json\n",
      "/Users/umoh/Developer/miniconda3/envs/backtrader/lib/python3.8/site-packages/IPython/core/interactiveshell.py:3426: UserWarning: To exit: use 'exit', 'quit', or Ctrl-D.\n",
      "  warn(\"To exit: use 'exit', 'quit', or Ctrl-D.\", stacklevel=1)\n"
     ]
    },
    {
     "ename": "SystemExit",
     "evalue": "2",
     "output_type": "error",
     "traceback": [
      "An exception has occurred, use %tb to see the full traceback.\n",
      "\u001B[0;31mSystemExit\u001B[0m\u001B[0;31m:\u001B[0m 2\n"
     ]
    }
   ],
   "source": [
    "run()"
   ]
  }
 ],
 "metadata": {
  "kernelspec": {
   "display_name": "Python 3",
   "language": "python",
   "name": "python3"
  },
  "language_info": {
   "codemirror_mode": {
    "name": "ipython",
    "version": 3
   },
   "file_extension": ".py",
   "mimetype": "text/x-python",
   "name": "python",
   "nbconvert_exporter": "python",
   "pygments_lexer": "ipython3",
   "version": "3.8.5"
  }
 },
 "nbformat": 4,
 "nbformat_minor": 1
}